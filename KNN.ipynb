{
 "cells": [
  {
   "cell_type": "markdown",
   "metadata": {},
   "source": [
    "## K Nearest Neighbors \n",
    "\n"
   ]
  },
  {
   "cell_type": "code",
   "execution_count": 1,
   "metadata": {},
   "outputs": [],
   "source": [
    "import pandas as pd\n",
    "import matplotlib.pyplot as plt\n",
    "import numpy as np\n",
    "#%matplotlib inline\n",
    "\n",
    "# Lines below are just to ignore warnings\n",
    "import warnings\n",
    "warnings.filterwarnings('ignore')"
   ]
  },
  {
   "cell_type": "code",
   "execution_count": 2,
   "metadata": {},
   "outputs": [
    {
     "data": {
      "text/html": [
       "<div>\n",
       "<style scoped>\n",
       "    .dataframe tbody tr th:only-of-type {\n",
       "        vertical-align: middle;\n",
       "    }\n",
       "\n",
       "    .dataframe tbody tr th {\n",
       "        vertical-align: top;\n",
       "    }\n",
       "\n",
       "    .dataframe thead th {\n",
       "        text-align: right;\n",
       "    }\n",
       "</style>\n",
       "<table border=\"1\" class=\"dataframe\">\n",
       "  <thead>\n",
       "    <tr style=\"text-align: right;\">\n",
       "      <th></th>\n",
       "      <th>Unnamed: 0</th>\n",
       "      <th>Cd_1</th>\n",
       "      <th>Cd_2</th>\n",
       "      <th>Cd_3</th>\n",
       "      <th>Cd_4</th>\n",
       "      <th>Cd_5</th>\n",
       "      <th>Cd_6</th>\n",
       "      <th>Cd_7</th>\n",
       "      <th>Cd_8</th>\n",
       "      <th>Cd_9</th>\n",
       "      <th>Cd_10</th>\n",
       "      <th>Result</th>\n",
       "    </tr>\n",
       "  </thead>\n",
       "  <tbody>\n",
       "    <tr>\n",
       "      <th>0</th>\n",
       "      <td>1</td>\n",
       "      <td>53.1</td>\n",
       "      <td>63.4</td>\n",
       "      <td>33.0</td>\n",
       "      <td>46.2</td>\n",
       "      <td>47.3</td>\n",
       "      <td>21.2</td>\n",
       "      <td>44.3</td>\n",
       "      <td>36.1</td>\n",
       "      <td>46.6</td>\n",
       "      <td>65.0</td>\n",
       "      <td>Y</td>\n",
       "    </tr>\n",
       "    <tr>\n",
       "      <th>1</th>\n",
       "      <td>2</td>\n",
       "      <td>36.9</td>\n",
       "      <td>54.7</td>\n",
       "      <td>31.1</td>\n",
       "      <td>50.5</td>\n",
       "      <td>56.0</td>\n",
       "      <td>38.9</td>\n",
       "      <td>39.4</td>\n",
       "      <td>56.8</td>\n",
       "      <td>33.0</td>\n",
       "      <td>78.8</td>\n",
       "      <td>N</td>\n",
       "    </tr>\n",
       "    <tr>\n",
       "      <th>2</th>\n",
       "      <td>3</td>\n",
       "      <td>41.9</td>\n",
       "      <td>65.5</td>\n",
       "      <td>53.5</td>\n",
       "      <td>52.3</td>\n",
       "      <td>92.5</td>\n",
       "      <td>43.2</td>\n",
       "      <td>94.9</td>\n",
       "      <td>64.7</td>\n",
       "      <td>50.8</td>\n",
       "      <td>67.9</td>\n",
       "      <td>N</td>\n",
       "    </tr>\n",
       "    <tr>\n",
       "      <th>3</th>\n",
       "      <td>4</td>\n",
       "      <td>71.7</td>\n",
       "      <td>75.6</td>\n",
       "      <td>37.9</td>\n",
       "      <td>50.5</td>\n",
       "      <td>69.2</td>\n",
       "      <td>52.5</td>\n",
       "      <td>82.3</td>\n",
       "      <td>77.3</td>\n",
       "      <td>80.8</td>\n",
       "      <td>60.9</td>\n",
       "      <td>Y</td>\n",
       "    </tr>\n",
       "    <tr>\n",
       "      <th>4</th>\n",
       "      <td>5</td>\n",
       "      <td>74.3</td>\n",
       "      <td>51.8</td>\n",
       "      <td>36.4</td>\n",
       "      <td>40.9</td>\n",
       "      <td>74.7</td>\n",
       "      <td>42.2</td>\n",
       "      <td>65.1</td>\n",
       "      <td>36.2</td>\n",
       "      <td>77.6</td>\n",
       "      <td>74.9</td>\n",
       "      <td>Y</td>\n",
       "    </tr>\n",
       "    <tr>\n",
       "      <th>...</th>\n",
       "      <td>...</td>\n",
       "      <td>...</td>\n",
       "      <td>...</td>\n",
       "      <td>...</td>\n",
       "      <td>...</td>\n",
       "      <td>...</td>\n",
       "      <td>...</td>\n",
       "      <td>...</td>\n",
       "      <td>...</td>\n",
       "      <td>...</td>\n",
       "      <td>...</td>\n",
       "      <td>...</td>\n",
       "    </tr>\n",
       "    <tr>\n",
       "      <th>995</th>\n",
       "      <td>996</td>\n",
       "      <td>58.7</td>\n",
       "      <td>56.4</td>\n",
       "      <td>49.5</td>\n",
       "      <td>38.1</td>\n",
       "      <td>62.8</td>\n",
       "      <td>35.2</td>\n",
       "      <td>43.6</td>\n",
       "      <td>17.9</td>\n",
       "      <td>59.3</td>\n",
       "      <td>71.2</td>\n",
       "      <td>Y</td>\n",
       "    </tr>\n",
       "    <tr>\n",
       "      <th>996</th>\n",
       "      <td>997</td>\n",
       "      <td>33.4</td>\n",
       "      <td>52.1</td>\n",
       "      <td>54.7</td>\n",
       "      <td>48.5</td>\n",
       "      <td>85.7</td>\n",
       "      <td>76.2</td>\n",
       "      <td>61.6</td>\n",
       "      <td>40.0</td>\n",
       "      <td>50.8</td>\n",
       "      <td>87.8</td>\n",
       "      <td>N</td>\n",
       "    </tr>\n",
       "    <tr>\n",
       "      <th>997</th>\n",
       "      <td>998</td>\n",
       "      <td>66.0</td>\n",
       "      <td>53.6</td>\n",
       "      <td>45.4</td>\n",
       "      <td>56.1</td>\n",
       "      <td>54.6</td>\n",
       "      <td>53.1</td>\n",
       "      <td>22.6</td>\n",
       "      <td>21.8</td>\n",
       "      <td>48.8</td>\n",
       "      <td>73.2</td>\n",
       "      <td>Y</td>\n",
       "    </tr>\n",
       "    <tr>\n",
       "      <th>998</th>\n",
       "      <td>999</td>\n",
       "      <td>63.0</td>\n",
       "      <td>47.0</td>\n",
       "      <td>23.6</td>\n",
       "      <td>40.7</td>\n",
       "      <td>97.5</td>\n",
       "      <td>56.6</td>\n",
       "      <td>50.0</td>\n",
       "      <td>59.4</td>\n",
       "      <td>67.7</td>\n",
       "      <td>62.7</td>\n",
       "      <td>Y</td>\n",
       "    </tr>\n",
       "    <tr>\n",
       "      <th>999</th>\n",
       "      <td>1000</td>\n",
       "      <td>48.6</td>\n",
       "      <td>52.4</td>\n",
       "      <td>24.2</td>\n",
       "      <td>48.9</td>\n",
       "      <td>56.6</td>\n",
       "      <td>25.5</td>\n",
       "      <td>45.4</td>\n",
       "      <td>50.9</td>\n",
       "      <td>66.7</td>\n",
       "      <td>72.1</td>\n",
       "      <td>Y</td>\n",
       "    </tr>\n",
       "  </tbody>\n",
       "</table>\n",
       "<p>1000 rows × 12 columns</p>\n",
       "</div>"
      ],
      "text/plain": [
       "     Unnamed: 0  Cd_1  Cd_2  Cd_3  Cd_4  Cd_5  Cd_6  Cd_7  Cd_8  Cd_9  Cd_10  \\\n",
       "0             1  53.1  63.4  33.0  46.2  47.3  21.2  44.3  36.1  46.6   65.0   \n",
       "1             2  36.9  54.7  31.1  50.5  56.0  38.9  39.4  56.8  33.0   78.8   \n",
       "2             3  41.9  65.5  53.5  52.3  92.5  43.2  94.9  64.7  50.8   67.9   \n",
       "3             4  71.7  75.6  37.9  50.5  69.2  52.5  82.3  77.3  80.8   60.9   \n",
       "4             5  74.3  51.8  36.4  40.9  74.7  42.2  65.1  36.2  77.6   74.9   \n",
       "..          ...   ...   ...   ...   ...   ...   ...   ...   ...   ...    ...   \n",
       "995         996  58.7  56.4  49.5  38.1  62.8  35.2  43.6  17.9  59.3   71.2   \n",
       "996         997  33.4  52.1  54.7  48.5  85.7  76.2  61.6  40.0  50.8   87.8   \n",
       "997         998  66.0  53.6  45.4  56.1  54.6  53.1  22.6  21.8  48.8   73.2   \n",
       "998         999  63.0  47.0  23.6  40.7  97.5  56.6  50.0  59.4  67.7   62.7   \n",
       "999        1000  48.6  52.4  24.2  48.9  56.6  25.5  45.4  50.9  66.7   72.1   \n",
       "\n",
       "    Result  \n",
       "0        Y  \n",
       "1        N  \n",
       "2        N  \n",
       "3        Y  \n",
       "4        Y  \n",
       "..     ...  \n",
       "995      Y  \n",
       "996      N  \n",
       "997      Y  \n",
       "998      Y  \n",
       "999      Y  \n",
       "\n",
       "[1000 rows x 12 columns]"
      ]
     },
     "execution_count": 2,
     "metadata": {},
     "output_type": "execute_result"
    }
   ],
   "source": [
    "df = pd.read_csv(\"Coded_Data.csv\")\n",
    "df"
   ]
  },
  {
   "cell_type": "markdown",
   "metadata": {},
   "source": [
    "In our dataframe, the first column looks like the index, let's set `index_col = 0`"
   ]
  },
  {
   "cell_type": "code",
   "execution_count": 3,
   "metadata": {},
   "outputs": [
    {
     "data": {
      "text/html": [
       "<div>\n",
       "<style scoped>\n",
       "    .dataframe tbody tr th:only-of-type {\n",
       "        vertical-align: middle;\n",
       "    }\n",
       "\n",
       "    .dataframe tbody tr th {\n",
       "        vertical-align: top;\n",
       "    }\n",
       "\n",
       "    .dataframe thead th {\n",
       "        text-align: right;\n",
       "    }\n",
       "</style>\n",
       "<table border=\"1\" class=\"dataframe\">\n",
       "  <thead>\n",
       "    <tr style=\"text-align: right;\">\n",
       "      <th></th>\n",
       "      <th>Cd_1</th>\n",
       "      <th>Cd_2</th>\n",
       "      <th>Cd_3</th>\n",
       "      <th>Cd_4</th>\n",
       "      <th>Cd_5</th>\n",
       "      <th>Cd_6</th>\n",
       "      <th>Cd_7</th>\n",
       "      <th>Cd_8</th>\n",
       "      <th>Cd_9</th>\n",
       "      <th>Cd_10</th>\n",
       "      <th>Result</th>\n",
       "    </tr>\n",
       "  </thead>\n",
       "  <tbody>\n",
       "    <tr>\n",
       "      <th>1</th>\n",
       "      <td>53.1</td>\n",
       "      <td>63.4</td>\n",
       "      <td>33.0</td>\n",
       "      <td>46.2</td>\n",
       "      <td>47.3</td>\n",
       "      <td>21.2</td>\n",
       "      <td>44.3</td>\n",
       "      <td>36.1</td>\n",
       "      <td>46.6</td>\n",
       "      <td>65.0</td>\n",
       "      <td>Y</td>\n",
       "    </tr>\n",
       "    <tr>\n",
       "      <th>2</th>\n",
       "      <td>36.9</td>\n",
       "      <td>54.7</td>\n",
       "      <td>31.1</td>\n",
       "      <td>50.5</td>\n",
       "      <td>56.0</td>\n",
       "      <td>38.9</td>\n",
       "      <td>39.4</td>\n",
       "      <td>56.8</td>\n",
       "      <td>33.0</td>\n",
       "      <td>78.8</td>\n",
       "      <td>N</td>\n",
       "    </tr>\n",
       "    <tr>\n",
       "      <th>3</th>\n",
       "      <td>41.9</td>\n",
       "      <td>65.5</td>\n",
       "      <td>53.5</td>\n",
       "      <td>52.3</td>\n",
       "      <td>92.5</td>\n",
       "      <td>43.2</td>\n",
       "      <td>94.9</td>\n",
       "      <td>64.7</td>\n",
       "      <td>50.8</td>\n",
       "      <td>67.9</td>\n",
       "      <td>N</td>\n",
       "    </tr>\n",
       "    <tr>\n",
       "      <th>4</th>\n",
       "      <td>71.7</td>\n",
       "      <td>75.6</td>\n",
       "      <td>37.9</td>\n",
       "      <td>50.5</td>\n",
       "      <td>69.2</td>\n",
       "      <td>52.5</td>\n",
       "      <td>82.3</td>\n",
       "      <td>77.3</td>\n",
       "      <td>80.8</td>\n",
       "      <td>60.9</td>\n",
       "      <td>Y</td>\n",
       "    </tr>\n",
       "    <tr>\n",
       "      <th>5</th>\n",
       "      <td>74.3</td>\n",
       "      <td>51.8</td>\n",
       "      <td>36.4</td>\n",
       "      <td>40.9</td>\n",
       "      <td>74.7</td>\n",
       "      <td>42.2</td>\n",
       "      <td>65.1</td>\n",
       "      <td>36.2</td>\n",
       "      <td>77.6</td>\n",
       "      <td>74.9</td>\n",
       "      <td>Y</td>\n",
       "    </tr>\n",
       "    <tr>\n",
       "      <th>...</th>\n",
       "      <td>...</td>\n",
       "      <td>...</td>\n",
       "      <td>...</td>\n",
       "      <td>...</td>\n",
       "      <td>...</td>\n",
       "      <td>...</td>\n",
       "      <td>...</td>\n",
       "      <td>...</td>\n",
       "      <td>...</td>\n",
       "      <td>...</td>\n",
       "      <td>...</td>\n",
       "    </tr>\n",
       "    <tr>\n",
       "      <th>996</th>\n",
       "      <td>58.7</td>\n",
       "      <td>56.4</td>\n",
       "      <td>49.5</td>\n",
       "      <td>38.1</td>\n",
       "      <td>62.8</td>\n",
       "      <td>35.2</td>\n",
       "      <td>43.6</td>\n",
       "      <td>17.9</td>\n",
       "      <td>59.3</td>\n",
       "      <td>71.2</td>\n",
       "      <td>Y</td>\n",
       "    </tr>\n",
       "    <tr>\n",
       "      <th>997</th>\n",
       "      <td>33.4</td>\n",
       "      <td>52.1</td>\n",
       "      <td>54.7</td>\n",
       "      <td>48.5</td>\n",
       "      <td>85.7</td>\n",
       "      <td>76.2</td>\n",
       "      <td>61.6</td>\n",
       "      <td>40.0</td>\n",
       "      <td>50.8</td>\n",
       "      <td>87.8</td>\n",
       "      <td>N</td>\n",
       "    </tr>\n",
       "    <tr>\n",
       "      <th>998</th>\n",
       "      <td>66.0</td>\n",
       "      <td>53.6</td>\n",
       "      <td>45.4</td>\n",
       "      <td>56.1</td>\n",
       "      <td>54.6</td>\n",
       "      <td>53.1</td>\n",
       "      <td>22.6</td>\n",
       "      <td>21.8</td>\n",
       "      <td>48.8</td>\n",
       "      <td>73.2</td>\n",
       "      <td>Y</td>\n",
       "    </tr>\n",
       "    <tr>\n",
       "      <th>999</th>\n",
       "      <td>63.0</td>\n",
       "      <td>47.0</td>\n",
       "      <td>23.6</td>\n",
       "      <td>40.7</td>\n",
       "      <td>97.5</td>\n",
       "      <td>56.6</td>\n",
       "      <td>50.0</td>\n",
       "      <td>59.4</td>\n",
       "      <td>67.7</td>\n",
       "      <td>62.7</td>\n",
       "      <td>Y</td>\n",
       "    </tr>\n",
       "    <tr>\n",
       "      <th>1000</th>\n",
       "      <td>48.6</td>\n",
       "      <td>52.4</td>\n",
       "      <td>24.2</td>\n",
       "      <td>48.9</td>\n",
       "      <td>56.6</td>\n",
       "      <td>25.5</td>\n",
       "      <td>45.4</td>\n",
       "      <td>50.9</td>\n",
       "      <td>66.7</td>\n",
       "      <td>72.1</td>\n",
       "      <td>Y</td>\n",
       "    </tr>\n",
       "  </tbody>\n",
       "</table>\n",
       "<p>1000 rows × 11 columns</p>\n",
       "</div>"
      ],
      "text/plain": [
       "      Cd_1  Cd_2  Cd_3  Cd_4  Cd_5  Cd_6  Cd_7  Cd_8  Cd_9  Cd_10 Result\n",
       "1     53.1  63.4  33.0  46.2  47.3  21.2  44.3  36.1  46.6   65.0      Y\n",
       "2     36.9  54.7  31.1  50.5  56.0  38.9  39.4  56.8  33.0   78.8      N\n",
       "3     41.9  65.5  53.5  52.3  92.5  43.2  94.9  64.7  50.8   67.9      N\n",
       "4     71.7  75.6  37.9  50.5  69.2  52.5  82.3  77.3  80.8   60.9      Y\n",
       "5     74.3  51.8  36.4  40.9  74.7  42.2  65.1  36.2  77.6   74.9      Y\n",
       "...    ...   ...   ...   ...   ...   ...   ...   ...   ...    ...    ...\n",
       "996   58.7  56.4  49.5  38.1  62.8  35.2  43.6  17.9  59.3   71.2      Y\n",
       "997   33.4  52.1  54.7  48.5  85.7  76.2  61.6  40.0  50.8   87.8      N\n",
       "998   66.0  53.6  45.4  56.1  54.6  53.1  22.6  21.8  48.8   73.2      Y\n",
       "999   63.0  47.0  23.6  40.7  97.5  56.6  50.0  59.4  67.7   62.7      Y\n",
       "1000  48.6  52.4  24.2  48.9  56.6  25.5  45.4  50.9  66.7   72.1      Y\n",
       "\n",
       "[1000 rows x 11 columns]"
      ]
     },
     "execution_count": 3,
     "metadata": {},
     "output_type": "execute_result"
    }
   ],
   "source": [
    "df = pd.read_csv(\"Coded_Data.csv\",index_col=0)\n",
    "df"
   ]
  },
  {
   "cell_type": "markdown",
   "metadata": {},
   "source": [
    "Great, this looks fine now!<br>\n",
    "\n",
    "Let's overview the data, we can use `info()` here!"
   ]
  },
  {
   "cell_type": "code",
   "execution_count": 4,
   "metadata": {},
   "outputs": [
    {
     "name": "stdout",
     "output_type": "stream",
     "text": [
      "<class 'pandas.core.frame.DataFrame'>\n",
      "Int64Index: 1000 entries, 1 to 1000\n",
      "Data columns (total 11 columns):\n",
      " #   Column  Non-Null Count  Dtype  \n",
      "---  ------  --------------  -----  \n",
      " 0   Cd_1    1000 non-null   float64\n",
      " 1   Cd_2    1000 non-null   float64\n",
      " 2   Cd_3    1000 non-null   float64\n",
      " 3   Cd_4    1000 non-null   float64\n",
      " 4   Cd_5    1000 non-null   float64\n",
      " 5   Cd_6    1000 non-null   float64\n",
      " 6   Cd_7    1000 non-null   float64\n",
      " 7   Cd_8    1000 non-null   float64\n",
      " 8   Cd_9    1000 non-null   float64\n",
      " 9   Cd_10   1000 non-null   float64\n",
      " 10  Result  1000 non-null   object \n",
      "dtypes: float64(10), object(1)\n",
      "memory usage: 93.8+ KB\n"
     ]
    }
   ],
   "source": [
    "df.info()"
   ]
  },
  {
   "cell_type": "markdown",
   "metadata": {
    "collapsed": true
   },
   "source": [
    "Let's split the data so that we can fit the `scaler` to the features only!"
   ]
  },
  {
   "cell_type": "code",
   "execution_count": 5,
   "metadata": {},
   "outputs": [],
   "source": [
    "#features and results/target\n",
    "target = df['Result']\n",
    "features = df.drop('Result',axis=1)"
   ]
  },
  {
   "cell_type": "code",
   "execution_count": 6,
   "metadata": {},
   "outputs": [
    {
     "data": {
      "text/html": [
       "<div>\n",
       "<style scoped>\n",
       "    .dataframe tbody tr th:only-of-type {\n",
       "        vertical-align: middle;\n",
       "    }\n",
       "\n",
       "    .dataframe tbody tr th {\n",
       "        vertical-align: top;\n",
       "    }\n",
       "\n",
       "    .dataframe thead th {\n",
       "        text-align: right;\n",
       "    }\n",
       "</style>\n",
       "<table border=\"1\" class=\"dataframe\">\n",
       "  <thead>\n",
       "    <tr style=\"text-align: right;\">\n",
       "      <th></th>\n",
       "      <th>Cd_1</th>\n",
       "      <th>Cd_2</th>\n",
       "      <th>Cd_3</th>\n",
       "      <th>Cd_4</th>\n",
       "      <th>Cd_5</th>\n",
       "      <th>Cd_6</th>\n",
       "      <th>Cd_7</th>\n",
       "      <th>Cd_8</th>\n",
       "      <th>Cd_9</th>\n",
       "      <th>Cd_10</th>\n",
       "    </tr>\n",
       "  </thead>\n",
       "  <tbody>\n",
       "    <tr>\n",
       "      <th>1</th>\n",
       "      <td>53.1</td>\n",
       "      <td>63.4</td>\n",
       "      <td>33.0</td>\n",
       "      <td>46.2</td>\n",
       "      <td>47.3</td>\n",
       "      <td>21.2</td>\n",
       "      <td>44.3</td>\n",
       "      <td>36.1</td>\n",
       "      <td>46.6</td>\n",
       "      <td>65.0</td>\n",
       "    </tr>\n",
       "    <tr>\n",
       "      <th>2</th>\n",
       "      <td>36.9</td>\n",
       "      <td>54.7</td>\n",
       "      <td>31.1</td>\n",
       "      <td>50.5</td>\n",
       "      <td>56.0</td>\n",
       "      <td>38.9</td>\n",
       "      <td>39.4</td>\n",
       "      <td>56.8</td>\n",
       "      <td>33.0</td>\n",
       "      <td>78.8</td>\n",
       "    </tr>\n",
       "    <tr>\n",
       "      <th>3</th>\n",
       "      <td>41.9</td>\n",
       "      <td>65.5</td>\n",
       "      <td>53.5</td>\n",
       "      <td>52.3</td>\n",
       "      <td>92.5</td>\n",
       "      <td>43.2</td>\n",
       "      <td>94.9</td>\n",
       "      <td>64.7</td>\n",
       "      <td>50.8</td>\n",
       "      <td>67.9</td>\n",
       "    </tr>\n",
       "    <tr>\n",
       "      <th>4</th>\n",
       "      <td>71.7</td>\n",
       "      <td>75.6</td>\n",
       "      <td>37.9</td>\n",
       "      <td>50.5</td>\n",
       "      <td>69.2</td>\n",
       "      <td>52.5</td>\n",
       "      <td>82.3</td>\n",
       "      <td>77.3</td>\n",
       "      <td>80.8</td>\n",
       "      <td>60.9</td>\n",
       "    </tr>\n",
       "    <tr>\n",
       "      <th>5</th>\n",
       "      <td>74.3</td>\n",
       "      <td>51.8</td>\n",
       "      <td>36.4</td>\n",
       "      <td>40.9</td>\n",
       "      <td>74.7</td>\n",
       "      <td>42.2</td>\n",
       "      <td>65.1</td>\n",
       "      <td>36.2</td>\n",
       "      <td>77.6</td>\n",
       "      <td>74.9</td>\n",
       "    </tr>\n",
       "  </tbody>\n",
       "</table>\n",
       "</div>"
      ],
      "text/plain": [
       "   Cd_1  Cd_2  Cd_3  Cd_4  Cd_5  Cd_6  Cd_7  Cd_8  Cd_9  Cd_10\n",
       "1  53.1  63.4  33.0  46.2  47.3  21.2  44.3  36.1  46.6   65.0\n",
       "2  36.9  54.7  31.1  50.5  56.0  38.9  39.4  56.8  33.0   78.8\n",
       "3  41.9  65.5  53.5  52.3  92.5  43.2  94.9  64.7  50.8   67.9\n",
       "4  71.7  75.6  37.9  50.5  69.2  52.5  82.3  77.3  80.8   60.9\n",
       "5  74.3  51.8  36.4  40.9  74.7  42.2  65.1  36.2  77.6   74.9"
      ]
     },
     "execution_count": 6,
     "metadata": {},
     "output_type": "execute_result"
    }
   ],
   "source": [
    "features.head()"
   ]
  },
  {
   "cell_type": "code",
   "execution_count": 7,
   "metadata": {},
   "outputs": [
    {
     "data": {
      "text/plain": [
       "1    Y\n",
       "2    N\n",
       "3    N\n",
       "4    Y\n",
       "5    Y\n",
       "Name: Result, dtype: object"
      ]
     },
     "execution_count": 7,
     "metadata": {},
     "output_type": "execute_result"
    }
   ],
   "source": [
    "target.head()"
   ]
  },
  {
   "cell_type": "markdown",
   "metadata": {},
   "source": [
    "Let's fit `scaler` to the features now!"
   ]
  },
  {
   "cell_type": "code",
   "execution_count": 8,
   "metadata": {},
   "outputs": [],
   "source": [
    "# Importing\n",
    "from sklearn.preprocessing import StandardScaler\n",
    "# Creating instance 'scaler'\n",
    "scaler = StandardScaler()"
   ]
  },
  {
   "cell_type": "code",
   "execution_count": 9,
   "metadata": {},
   "outputs": [
    {
     "data": {
      "text/plain": [
       "StandardScaler()"
      ]
     },
     "execution_count": 9,
     "metadata": {},
     "output_type": "execute_result"
    }
   ],
   "source": [
    "# We can do this in a one line as well!\n",
    "#scaler.fit(df.drop('Result',axis=1))\n",
    "scaler.fit(features)"
   ]
  },
  {
   "cell_type": "markdown",
   "metadata": {},
   "source": [
    "So, we have the fitted features to the `scaler` object. We will use this `scaler` object to transform all the features using `.transform()` method in `Scikit-learn` to do the `standardization` job by centering and scaling.<br>\n",
    "Let's pass the features to `scaler.transform()` to get standardized features in `scaled_features`!"
   ]
  },
  {
   "cell_type": "code",
   "execution_count": 10,
   "metadata": {},
   "outputs": [],
   "source": [
    "scaled_features = scaler.transform(features)"
   ]
  },
  {
   "cell_type": "code",
   "execution_count": 11,
   "metadata": {},
   "outputs": [
    {
     "data": {
      "text/plain": [
       "numpy.ndarray"
      ]
     },
     "execution_count": 11,
     "metadata": {},
     "output_type": "execute_result"
    }
   ],
   "source": [
    "type(scaled_features)"
   ]
  },
  {
   "cell_type": "code",
   "execution_count": 12,
   "metadata": {},
   "outputs": [
    {
     "data": {
      "text/plain": [
       "array([[-0.12252539,  0.1875694 , -0.91183199, ..., -1.48006982,\n",
       "        -0.95256187, -0.64536551],\n",
       "       [-1.08602779, -0.43340316, -1.02415132, ..., -0.20055606,\n",
       "        -1.82621843,  0.6351032 ],\n",
       "       [-0.78865051,  0.33745933,  0.30003449, ...,  0.28776079,\n",
       "        -0.68275617, -0.3762815 ],\n",
       "       ...,\n",
       "       [ 0.64470801, -0.51191693, -0.17880055, ..., -2.36398512,\n",
       "        -0.81123508,  0.11549271],\n",
       "       [ 0.46628164, -0.98299956, -1.46751711, ..., -0.03984418,\n",
       "         0.40289057, -0.85877696],\n",
       "       [-0.39016495, -0.59756832, -1.43204784, ..., -0.56524838,\n",
       "         0.33865112,  0.01342636]])"
      ]
     },
     "execution_count": 12,
     "metadata": {},
     "output_type": "execute_result"
    }
   ],
   "source": [
    "scaled_features"
   ]
  },
  {
   "cell_type": "markdown",
   "metadata": {},
   "source": [
    "`scaled_features` is a NumPy array, Let's convert this into the pandas `DataFrame`!<br>\n",
    "We can use our `df.columns` to get the columns name and pass that to `DatFrame()` along with `scaled_features`, note we don't need `Results` column, [:-1] will work *(everything but the last one)*!"
   ]
  },
  {
   "cell_type": "code",
   "execution_count": 13,
   "metadata": {},
   "outputs": [
    {
     "data": {
      "text/html": [
       "<div>\n",
       "<style scoped>\n",
       "    .dataframe tbody tr th:only-of-type {\n",
       "        vertical-align: middle;\n",
       "    }\n",
       "\n",
       "    .dataframe tbody tr th {\n",
       "        vertical-align: top;\n",
       "    }\n",
       "\n",
       "    .dataframe thead th {\n",
       "        text-align: right;\n",
       "    }\n",
       "</style>\n",
       "<table border=\"1\" class=\"dataframe\">\n",
       "  <thead>\n",
       "    <tr style=\"text-align: right;\">\n",
       "      <th></th>\n",
       "      <th>Cd_1</th>\n",
       "      <th>Cd_2</th>\n",
       "      <th>Cd_3</th>\n",
       "      <th>Cd_4</th>\n",
       "      <th>Cd_5</th>\n",
       "      <th>Cd_6</th>\n",
       "      <th>Cd_7</th>\n",
       "      <th>Cd_8</th>\n",
       "      <th>Cd_9</th>\n",
       "      <th>Cd_10</th>\n",
       "      <th>Result</th>\n",
       "    </tr>\n",
       "  </thead>\n",
       "  <tbody>\n",
       "    <tr>\n",
       "      <th>1</th>\n",
       "      <td>53.1</td>\n",
       "      <td>63.4</td>\n",
       "      <td>33.0</td>\n",
       "      <td>46.2</td>\n",
       "      <td>47.3</td>\n",
       "      <td>21.2</td>\n",
       "      <td>44.3</td>\n",
       "      <td>36.1</td>\n",
       "      <td>46.6</td>\n",
       "      <td>65.0</td>\n",
       "      <td>Y</td>\n",
       "    </tr>\n",
       "    <tr>\n",
       "      <th>2</th>\n",
       "      <td>36.9</td>\n",
       "      <td>54.7</td>\n",
       "      <td>31.1</td>\n",
       "      <td>50.5</td>\n",
       "      <td>56.0</td>\n",
       "      <td>38.9</td>\n",
       "      <td>39.4</td>\n",
       "      <td>56.8</td>\n",
       "      <td>33.0</td>\n",
       "      <td>78.8</td>\n",
       "      <td>N</td>\n",
       "    </tr>\n",
       "    <tr>\n",
       "      <th>3</th>\n",
       "      <td>41.9</td>\n",
       "      <td>65.5</td>\n",
       "      <td>53.5</td>\n",
       "      <td>52.3</td>\n",
       "      <td>92.5</td>\n",
       "      <td>43.2</td>\n",
       "      <td>94.9</td>\n",
       "      <td>64.7</td>\n",
       "      <td>50.8</td>\n",
       "      <td>67.9</td>\n",
       "      <td>N</td>\n",
       "    </tr>\n",
       "    <tr>\n",
       "      <th>4</th>\n",
       "      <td>71.7</td>\n",
       "      <td>75.6</td>\n",
       "      <td>37.9</td>\n",
       "      <td>50.5</td>\n",
       "      <td>69.2</td>\n",
       "      <td>52.5</td>\n",
       "      <td>82.3</td>\n",
       "      <td>77.3</td>\n",
       "      <td>80.8</td>\n",
       "      <td>60.9</td>\n",
       "      <td>Y</td>\n",
       "    </tr>\n",
       "    <tr>\n",
       "      <th>5</th>\n",
       "      <td>74.3</td>\n",
       "      <td>51.8</td>\n",
       "      <td>36.4</td>\n",
       "      <td>40.9</td>\n",
       "      <td>74.7</td>\n",
       "      <td>42.2</td>\n",
       "      <td>65.1</td>\n",
       "      <td>36.2</td>\n",
       "      <td>77.6</td>\n",
       "      <td>74.9</td>\n",
       "      <td>Y</td>\n",
       "    </tr>\n",
       "  </tbody>\n",
       "</table>\n",
       "</div>"
      ],
      "text/plain": [
       "   Cd_1  Cd_2  Cd_3  Cd_4  Cd_5  Cd_6  Cd_7  Cd_8  Cd_9  Cd_10 Result\n",
       "1  53.1  63.4  33.0  46.2  47.3  21.2  44.3  36.1  46.6   65.0      Y\n",
       "2  36.9  54.7  31.1  50.5  56.0  38.9  39.4  56.8  33.0   78.8      N\n",
       "3  41.9  65.5  53.5  52.3  92.5  43.2  94.9  64.7  50.8   67.9      N\n",
       "4  71.7  75.6  37.9  50.5  69.2  52.5  82.3  77.3  80.8   60.9      Y\n",
       "5  74.3  51.8  36.4  40.9  74.7  42.2  65.1  36.2  77.6   74.9      Y"
      ]
     },
     "execution_count": 13,
     "metadata": {},
     "output_type": "execute_result"
    }
   ],
   "source": [
    "#Before Scaling\n",
    "df.head()"
   ]
  },
  {
   "cell_type": "code",
   "execution_count": 14,
   "metadata": {},
   "outputs": [
    {
     "data": {
      "text/plain": [
       "Index(['Cd_1', 'Cd_2', 'Cd_3', 'Cd_4', 'Cd_5', 'Cd_6', 'Cd_7', 'Cd_8', 'Cd_9',\n",
       "       'Cd_10'],\n",
       "      dtype='object')"
      ]
     },
     "execution_count": 14,
     "metadata": {},
     "output_type": "execute_result"
    }
   ],
   "source": [
    "cols = df.columns[:-1]\n",
    "cols"
   ]
  },
  {
   "cell_type": "code",
   "execution_count": 15,
   "metadata": {},
   "outputs": [
    {
     "data": {
      "text/html": [
       "<div>\n",
       "<style scoped>\n",
       "    .dataframe tbody tr th:only-of-type {\n",
       "        vertical-align: middle;\n",
       "    }\n",
       "\n",
       "    .dataframe tbody tr th {\n",
       "        vertical-align: top;\n",
       "    }\n",
       "\n",
       "    .dataframe thead th {\n",
       "        text-align: right;\n",
       "    }\n",
       "</style>\n",
       "<table border=\"1\" class=\"dataframe\">\n",
       "  <thead>\n",
       "    <tr style=\"text-align: right;\">\n",
       "      <th></th>\n",
       "      <th>Cd_1</th>\n",
       "      <th>Cd_2</th>\n",
       "      <th>Cd_3</th>\n",
       "      <th>Cd_4</th>\n",
       "      <th>Cd_5</th>\n",
       "      <th>Cd_6</th>\n",
       "      <th>Cd_7</th>\n",
       "      <th>Cd_8</th>\n",
       "      <th>Cd_9</th>\n",
       "      <th>Cd_10</th>\n",
       "    </tr>\n",
       "  </thead>\n",
       "  <tbody>\n",
       "    <tr>\n",
       "      <th>0</th>\n",
       "      <td>-0.122525</td>\n",
       "      <td>0.187569</td>\n",
       "      <td>-0.911832</td>\n",
       "      <td>0.318653</td>\n",
       "      <td>-1.035516</td>\n",
       "      <td>-2.305940</td>\n",
       "      <td>-0.801865</td>\n",
       "      <td>-1.480070</td>\n",
       "      <td>-0.952562</td>\n",
       "      <td>-0.645366</td>\n",
       "    </tr>\n",
       "    <tr>\n",
       "      <th>1</th>\n",
       "      <td>-1.086028</td>\n",
       "      <td>-0.433403</td>\n",
       "      <td>-1.024151</td>\n",
       "      <td>0.624941</td>\n",
       "      <td>-0.445471</td>\n",
       "      <td>-1.153296</td>\n",
       "      <td>-1.131088</td>\n",
       "      <td>-0.200556</td>\n",
       "      <td>-1.826218</td>\n",
       "      <td>0.635103</td>\n",
       "    </tr>\n",
       "    <tr>\n",
       "      <th>2</th>\n",
       "      <td>-0.788651</td>\n",
       "      <td>0.337459</td>\n",
       "      <td>0.300034</td>\n",
       "      <td>0.753154</td>\n",
       "      <td>2.030007</td>\n",
       "      <td>-0.873275</td>\n",
       "      <td>2.597862</td>\n",
       "      <td>0.287761</td>\n",
       "      <td>-0.682756</td>\n",
       "      <td>-0.376282</td>\n",
       "    </tr>\n",
       "    <tr>\n",
       "      <th>3</th>\n",
       "      <td>0.983718</td>\n",
       "      <td>1.058359</td>\n",
       "      <td>-0.622166</td>\n",
       "      <td>0.624941</td>\n",
       "      <td>0.449771</td>\n",
       "      <td>-0.267648</td>\n",
       "      <td>1.751290</td>\n",
       "      <td>1.066595</td>\n",
       "      <td>1.244427</td>\n",
       "      <td>-1.025795</td>\n",
       "    </tr>\n",
       "    <tr>\n",
       "      <th>4</th>\n",
       "      <td>1.138354</td>\n",
       "      <td>-0.640394</td>\n",
       "      <td>-0.710839</td>\n",
       "      <td>-0.058864</td>\n",
       "      <td>0.822788</td>\n",
       "      <td>-0.938396</td>\n",
       "      <td>0.595651</td>\n",
       "      <td>-1.473889</td>\n",
       "      <td>1.038861</td>\n",
       "      <td>0.273232</td>\n",
       "    </tr>\n",
       "  </tbody>\n",
       "</table>\n",
       "</div>"
      ],
      "text/plain": [
       "       Cd_1      Cd_2      Cd_3      Cd_4      Cd_5      Cd_6      Cd_7  \\\n",
       "0 -0.122525  0.187569 -0.911832  0.318653 -1.035516 -2.305940 -0.801865   \n",
       "1 -1.086028 -0.433403 -1.024151  0.624941 -0.445471 -1.153296 -1.131088   \n",
       "2 -0.788651  0.337459  0.300034  0.753154  2.030007 -0.873275  2.597862   \n",
       "3  0.983718  1.058359 -0.622166  0.624941  0.449771 -0.267648  1.751290   \n",
       "4  1.138354 -0.640394 -0.710839 -0.058864  0.822788 -0.938396  0.595651   \n",
       "\n",
       "       Cd_8      Cd_9     Cd_10  \n",
       "0 -1.480070 -0.952562 -0.645366  \n",
       "1 -0.200556 -1.826218  0.635103  \n",
       "2  0.287761 -0.682756 -0.376282  \n",
       "3  1.066595  1.244427 -1.025795  \n",
       "4 -1.473889  1.038861  0.273232  "
      ]
     },
     "execution_count": 15,
     "metadata": {},
     "output_type": "execute_result"
    }
   ],
   "source": [
    "#After Scaling\n",
    "df_scaled_features = pd.DataFrame(scaled_features, columns=cols)#df.columns[:-1])\n",
    "df_scaled_features.head()"
   ]
  },
  {
   "cell_type": "markdown",
   "metadata": {
    "collapsed": true
   },
   "source": [
    "<br>Our data is ready for the Machine Learning part now!\n",
    "## Let's do the train_test split \n"
   ]
  },
  {
   "cell_type": "code",
   "execution_count": 16,
   "metadata": {},
   "outputs": [],
   "source": [
    "from sklearn.model_selection import train_test_split"
   ]
  },
  {
   "cell_type": "code",
   "execution_count": 17,
   "metadata": {},
   "outputs": [],
   "source": [
    "X = scaled_features\n",
    "y = target\n",
    "\n",
    "X_train, X_test, y_train, y_test = train_test_split(X,y,test_size=0.30)\n",
    "\n",
    "\n",
    "#keep the test_size and random_state same if you want to have the \n",
    "#same results as mine!"
   ]
  },
  {
   "cell_type": "code",
   "execution_count": 18,
   "metadata": {},
   "outputs": [
    {
     "data": {
      "text/plain": [
       "array([[-0.68159469, -0.12648569,  1.47643171, ..., -0.80631619,\n",
       "        -0.74057168,  0.80212086],\n",
       "       [ 0.04400589,  2.22892747,  0.04583811, ..., -0.23146219,\n",
       "         0.01745386, -1.36910869],\n",
       "       [-1.66888727,  1.05122089,  0.82616189, ...,  0.75753396,\n",
       "        -2.51358057, -0.76598937],\n",
       "       ...,\n",
       "       [-0.40206004,  1.59367968,  0.92665814, ...,  0.7204466 ,\n",
       "        -2.2052312 ,  0.81139962],\n",
       "       [ 0.02021571,  0.5515878 ,  0.80251572, ..., -0.03984418,\n",
       "        -0.65063645,  0.33818292],\n",
       "       [-0.78865051,  0.33745933,  0.30003449, ...,  0.28776079,\n",
       "        -0.68275617, -0.3762815 ]])"
      ]
     },
     "execution_count": 18,
     "metadata": {},
     "output_type": "execute_result"
    }
   ],
   "source": [
    "X_train"
   ]
  },
  {
   "cell_type": "code",
   "execution_count": 19,
   "metadata": {},
   "outputs": [
    {
     "data": {
      "text/plain": [
       "100    N\n",
       "277    N\n",
       "869    N\n",
       "901    Y\n",
       "347    Y\n",
       "      ..\n",
       "332    N\n",
       "422    N\n",
       "6      N\n",
       "565    N\n",
       "3      N\n",
       "Name: Result, Length: 700, dtype: object"
      ]
     },
     "execution_count": 19,
     "metadata": {},
     "output_type": "execute_result"
    }
   ],
   "source": [
    "y_train"
   ]
  },
  {
   "cell_type": "markdown",
   "metadata": {
    "collapsed": true
   },
   "source": [
    "## KNN\n",
    "Our focus is to come up with a model that can predict the class in `Result` for the new data point. We don't know what k number will work best, let's start with k = 3 at the moment. <br>\n",
    "We need to import the `KNeighborsClassifier` from `sklearn.neighbors`."
   ]
  },
  {
   "cell_type": "code",
   "execution_count": 20,
   "metadata": {},
   "outputs": [],
   "source": [
    "from sklearn.neighbors import KNeighborsClassifier "
   ]
  },
  {
   "cell_type": "markdown",
   "metadata": {
    "collapsed": true
   },
   "source": [
    "Let's Create a KNN model instance with n_neighbors=3"
   ]
  },
  {
   "cell_type": "code",
   "execution_count": 21,
   "metadata": {},
   "outputs": [],
   "source": [
    "knn = KNeighborsClassifier(n_neighbors=3) \n"
   ]
  },
  {
   "cell_type": "markdown",
   "metadata": {
    "collapsed": true
   },
   "source": [
    "Let's fit this model to the training data, You know this all now!"
   ]
  },
  {
   "cell_type": "code",
   "execution_count": 22,
   "metadata": {
    "scrolled": true
   },
   "outputs": [
    {
     "data": {
      "text/plain": [
       "KNeighborsClassifier(n_neighbors=3)"
      ]
     },
     "execution_count": 22,
     "metadata": {},
     "output_type": "execute_result"
    }
   ],
   "source": [
    "knn.fit(X_train, y_train)"
   ]
  },
  {
   "cell_type": "markdown",
   "metadata": {
    "collapsed": true
   },
   "source": [
    "Let's do the predictions now!"
   ]
  },
  {
   "cell_type": "code",
   "execution_count": 23,
   "metadata": {},
   "outputs": [
    {
     "data": {
      "text/plain": [
       "array(['N', 'N', 'N', 'N', 'Y', 'N', 'Y', 'N', 'Y', 'Y', 'Y', 'N', 'N',\n",
       "       'Y', 'Y', 'Y', 'Y', 'Y', 'Y', 'N', 'N', 'N', 'N', 'Y', 'N', 'N',\n",
       "       'N', 'Y', 'Y', 'N', 'Y', 'N', 'Y', 'Y', 'Y', 'Y', 'Y', 'Y', 'N',\n",
       "       'N', 'N', 'N', 'N', 'N', 'Y', 'N', 'Y', 'N', 'Y', 'Y', 'Y', 'N',\n",
       "       'N', 'Y', 'Y', 'N', 'Y', 'N', 'N', 'Y', 'N', 'Y', 'Y', 'N', 'Y',\n",
       "       'N', 'Y', 'N', 'Y', 'N', 'Y', 'N', 'N', 'N', 'Y', 'Y', 'Y', 'Y',\n",
       "       'N', 'Y', 'Y', 'Y', 'Y', 'Y', 'Y', 'Y', 'N', 'Y', 'Y', 'Y', 'N',\n",
       "       'Y', 'Y', 'N', 'N', 'N', 'Y', 'Y', 'Y', 'Y', 'N', 'Y', 'N', 'Y',\n",
       "       'N', 'N', 'Y', 'Y', 'N', 'Y', 'Y', 'Y', 'Y', 'Y', 'N', 'N', 'Y',\n",
       "       'N', 'N', 'Y', 'Y', 'Y', 'Y', 'Y', 'Y', 'Y', 'N', 'N', 'Y', 'Y',\n",
       "       'Y', 'N', 'Y', 'N', 'N', 'Y', 'N', 'N', 'Y', 'N', 'N', 'N', 'N',\n",
       "       'Y', 'Y', 'N', 'Y', 'Y', 'Y', 'N', 'N', 'Y', 'Y', 'Y', 'Y', 'N',\n",
       "       'Y', 'N', 'N', 'N', 'Y', 'N', 'Y', 'Y', 'N', 'N', 'Y', 'N', 'Y',\n",
       "       'Y', 'N', 'Y', 'Y', 'Y', 'N', 'N', 'N', 'Y', 'Y', 'N', 'N', 'N',\n",
       "       'Y', 'N', 'N', 'Y', 'Y', 'Y', 'N', 'N', 'N', 'Y', 'Y', 'Y', 'Y',\n",
       "       'Y', 'Y', 'N', 'Y', 'Y', 'N', 'Y', 'Y', 'Y', 'N', 'N', 'Y', 'Y',\n",
       "       'N', 'N', 'N', 'Y', 'Y', 'Y', 'N', 'Y', 'Y', 'Y', 'N', 'Y', 'Y',\n",
       "       'Y', 'Y', 'N', 'N', 'Y', 'N', 'Y', 'Y', 'N', 'N', 'Y', 'N', 'N',\n",
       "       'N', 'N', 'N', 'Y', 'Y', 'Y', 'Y', 'N', 'N', 'N', 'Y', 'N', 'Y',\n",
       "       'Y', 'N', 'N', 'Y', 'Y', 'Y', 'Y', 'N', 'N', 'Y', 'N', 'N', 'Y',\n",
       "       'Y', 'Y', 'Y', 'N', 'Y', 'N', 'Y', 'N', 'N', 'N', 'N', 'N', 'Y',\n",
       "       'N', 'Y', 'N', 'Y', 'N', 'N', 'N', 'Y', 'N', 'N', 'N', 'N', 'Y',\n",
       "       'Y', 'N', 'Y', 'Y', 'N', 'N', 'Y', 'N', 'N', 'N', 'Y', 'N', 'Y',\n",
       "       'Y'], dtype=object)"
      ]
     },
     "execution_count": 23,
     "metadata": {},
     "output_type": "execute_result"
    }
   ],
   "source": [
    "predictions = knn.predict(X_test)\n",
    "predictions"
   ]
  },
  {
   "cell_type": "code",
   "execution_count": 24,
   "metadata": {},
   "outputs": [
    {
     "data": {
      "text/plain": [
       "0.9233333333333333"
      ]
     },
     "execution_count": 24,
     "metadata": {},
     "output_type": "execute_result"
    }
   ],
   "source": [
    "knn.score(X_test, y_test)"
   ]
  },
  {
   "cell_type": "code",
   "execution_count": 25,
   "metadata": {},
   "outputs": [
    {
     "data": {
      "text/plain": [
       "array(['Y'], dtype=object)"
      ]
     },
     "execution_count": 25,
     "metadata": {},
     "output_type": "execute_result"
    }
   ],
   "source": [
    "knn.predict([[-1.122525, 0.187569, -0.911832, 0.318653, -0.035516, -0.305940, -0.801865, -1.480070, -0.952562, -2.645366]])"
   ]
  },
  {
   "cell_type": "markdown",
   "metadata": {
    "collapsed": true
   },
   "source": [
    "## Evaluation\n",
    "As we already know, the evaluation is very important to know if the model is working fine or not! <br>\n",
    "Let's see how the confusion matrix and classification report look like!"
   ]
  },
  {
   "cell_type": "code",
   "execution_count": 27,
   "metadata": {},
   "outputs": [],
   "source": [
    "from sklearn.metrics import classification_report,confusion_matrix"
   ]
  },
  {
   "cell_type": "code",
   "execution_count": 28,
   "metadata": {},
   "outputs": [
    {
     "name": "stdout",
     "output_type": "stream",
     "text": [
      "[[132  16]\n",
      " [  7 145]]\n",
      "              precision    recall  f1-score   support\n",
      "\n",
      "           N       0.95      0.89      0.92       148\n",
      "           Y       0.90      0.95      0.93       152\n",
      "\n",
      "    accuracy                           0.92       300\n",
      "   macro avg       0.93      0.92      0.92       300\n",
      "weighted avg       0.92      0.92      0.92       300\n",
      "\n"
     ]
    }
   ],
   "source": [
    "print(confusion_matrix(y_test, predictions))\n",
    "print(classification_report(y_test,predictions))"
   ]
  }
 ],
 "metadata": {
  "kernelspec": {
   "display_name": "Python 3 (ipykernel)",
   "language": "python",
   "name": "python3"
  },
  "language_info": {
   "codemirror_mode": {
    "name": "ipython",
    "version": 3
   },
   "file_extension": ".py",
   "mimetype": "text/x-python",
   "name": "python",
   "nbconvert_exporter": "python",
   "pygments_lexer": "ipython3",
   "version": "3.8.12"
  }
 },
 "nbformat": 4,
 "nbformat_minor": 2
}
